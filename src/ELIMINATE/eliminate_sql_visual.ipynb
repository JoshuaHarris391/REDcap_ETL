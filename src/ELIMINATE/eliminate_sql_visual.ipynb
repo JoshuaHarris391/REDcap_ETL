{
 "cells": [
  {
   "cell_type": "markdown",
   "metadata": {},
   "source": [
    "# ELIMINATE Basic Analysis\n",
    "\n",
    "This notebook aimes to:\n",
    "1. Read in all data from ELIMINATE clinical trial\n",
    "1. Clean data\n",
    "1. write to SQL\n",
    "1. Query SQL and pipe into visualisaitons"
   ]
  },
  {
   "cell_type": "markdown",
   "metadata": {},
   "source": [
    "## Read in all data"
   ]
  },
  {
   "cell_type": "code",
   "execution_count": 52,
   "metadata": {},
   "outputs": [],
   "source": [
    "import pandas as pd\n",
    "import numpy as np\n",
    "import matplotlib as plt\n",
    "import seaborn as sns\n",
    "import os as os\n"
   ]
  },
  {
   "cell_type": "code",
   "execution_count": 53,
   "metadata": {},
   "outputs": [
    {
     "data": {
      "text/plain": [
       "'/Users/harrisjoshua/code/REDcap_ETL'"
      ]
     },
     "execution_count": 53,
     "metadata": {},
     "output_type": "execute_result"
    }
   ],
   "source": [
    "# Current wd\n",
    "os.getcwd()"
   ]
  },
  {
   "cell_type": "code",
   "execution_count": 54,
   "metadata": {},
   "outputs": [
    {
     "data": {
      "text/plain": [
       "'/Users/harrisjoshua/code/REDcap_ETL'"
      ]
     },
     "execution_count": 54,
     "metadata": {},
     "output_type": "execute_result"
    }
   ],
   "source": [
    "# Setting to new wd\n",
    "os.chdir('/Users/harrisjoshua/code/REDcap_ETL')\n",
    "os.getcwd()"
   ]
  },
  {
   "cell_type": "code",
   "execution_count": 55,
   "metadata": {},
   "outputs": [],
   "source": [
    "# Reading in df\n",
    "clinDF = pd.read_csv((os.getcwd() + \"/data/ELIMINATE/NEW_ELIMINATE_Data_22jun22_30.csv\"))\n",
    "plasmaCollectDF = pd.read_csv((os.getcwd() + \"/data/ELIMINATE/20230207_ELIMINATE_plasmacollection_fixed.csv\"))\n",
    "plasmaVialDF = pd.read_csv((os.getcwd() + \"/data/ELIMINATE/230209_ELIMINATE_plasmavial_cleaned.csv\"))"
   ]
  },
  {
   "cell_type": "markdown",
   "metadata": {},
   "source": [
    "## Inspecting data\n",
    "### Clinical"
   ]
  },
  {
   "cell_type": "markdown",
   "metadata": {},
   "source": [
    "**Head**"
   ]
  },
  {
   "cell_type": "code",
   "execution_count": 56,
   "metadata": {},
   "outputs": [
    {
     "data": {
      "text/html": [
       "<div>\n",
       "<style scoped>\n",
       "    .dataframe tbody tr th:only-of-type {\n",
       "        vertical-align: middle;\n",
       "    }\n",
       "\n",
       "    .dataframe tbody tr th {\n",
       "        vertical-align: top;\n",
       "    }\n",
       "\n",
       "    .dataframe thead th {\n",
       "        text-align: right;\n",
       "    }\n",
       "</style>\n",
       "<table border=\"1\" class=\"dataframe\">\n",
       "  <thead>\n",
       "    <tr style=\"text-align: right;\">\n",
       "      <th></th>\n",
       "      <th>patient_id</th>\n",
       "      <th>treatment_arm</th>\n",
       "      <th>age_diagnosis</th>\n",
       "      <th>menopause_status</th>\n",
       "      <th>baseline_histo_grade</th>\n",
       "      <th>baseline_t_stage</th>\n",
       "      <th>baseline_n_stage</th>\n",
       "      <th>surgery_histo_grade</th>\n",
       "      <th>surgery_histo_type</th>\n",
       "      <th>surgery_specific_histo_type</th>\n",
       "      <th>surgery_t_stage</th>\n",
       "      <th>surgery_n_stage</th>\n",
       "      <th>res_cancer_burden_class</th>\n",
       "      <th>pcr_breast_axilla</th>\n",
       "      <th>pcr_breast</th>\n",
       "      <th>surgery_n_stage_type</th>\n",
       "    </tr>\n",
       "  </thead>\n",
       "  <tbody>\n",
       "    <tr>\n",
       "      <th>0</th>\n",
       "      <td>1401001A</td>\n",
       "      <td>2</td>\n",
       "      <td>61.2</td>\n",
       "      <td>1</td>\n",
       "      <td>G3</td>\n",
       "      <td>T2</td>\n",
       "      <td>N0</td>\n",
       "      <td>G1</td>\n",
       "      <td>ductal</td>\n",
       "      <td>NaN</td>\n",
       "      <td>T2</td>\n",
       "      <td>N1</td>\n",
       "      <td>2.0</td>\n",
       "      <td>2.0</td>\n",
       "      <td>2.0</td>\n",
       "      <td>mi</td>\n",
       "    </tr>\n",
       "    <tr>\n",
       "      <th>1</th>\n",
       "      <td>1401002B</td>\n",
       "      <td>1</td>\n",
       "      <td>40.2</td>\n",
       "      <td>2</td>\n",
       "      <td>G3</td>\n",
       "      <td>T3</td>\n",
       "      <td>N1</td>\n",
       "      <td>G2</td>\n",
       "      <td>other</td>\n",
       "      <td>Ductal, micropapillary carcinoma and mucinous ...</td>\n",
       "      <td>T2</td>\n",
       "      <td>N1</td>\n",
       "      <td>2.0</td>\n",
       "      <td>2.0</td>\n",
       "      <td>2.0</td>\n",
       "      <td>a</td>\n",
       "    </tr>\n",
       "    <tr>\n",
       "      <th>2</th>\n",
       "      <td>1401003A</td>\n",
       "      <td>2</td>\n",
       "      <td>43.7</td>\n",
       "      <td>2</td>\n",
       "      <td>G2</td>\n",
       "      <td>T2</td>\n",
       "      <td>N0</td>\n",
       "      <td>NaN</td>\n",
       "      <td>ductal</td>\n",
       "      <td>NaN</td>\n",
       "      <td>T1</td>\n",
       "      <td>N1</td>\n",
       "      <td>3.0</td>\n",
       "      <td>2.0</td>\n",
       "      <td>2.0</td>\n",
       "      <td>b</td>\n",
       "    </tr>\n",
       "    <tr>\n",
       "      <th>3</th>\n",
       "      <td>1401005B</td>\n",
       "      <td>1</td>\n",
       "      <td>63.0</td>\n",
       "      <td>1</td>\n",
       "      <td>G2</td>\n",
       "      <td>T2</td>\n",
       "      <td>N1</td>\n",
       "      <td>G2</td>\n",
       "      <td>ductal</td>\n",
       "      <td>NaN</td>\n",
       "      <td>T2</td>\n",
       "      <td>N1</td>\n",
       "      <td>3.0</td>\n",
       "      <td>2.0</td>\n",
       "      <td>2.0</td>\n",
       "      <td>a</td>\n",
       "    </tr>\n",
       "    <tr>\n",
       "      <th>4</th>\n",
       "      <td>1401006A</td>\n",
       "      <td>2</td>\n",
       "      <td>32.5</td>\n",
       "      <td>2</td>\n",
       "      <td>G2</td>\n",
       "      <td>T2</td>\n",
       "      <td>N1</td>\n",
       "      <td>G1</td>\n",
       "      <td>ductal</td>\n",
       "      <td>NaN</td>\n",
       "      <td>T1</td>\n",
       "      <td>N1</td>\n",
       "      <td>3.0</td>\n",
       "      <td>2.0</td>\n",
       "      <td>2.0</td>\n",
       "      <td>a</td>\n",
       "    </tr>\n",
       "  </tbody>\n",
       "</table>\n",
       "</div>"
      ],
      "text/plain": [
       "  patient_id  treatment_arm  age_diagnosis  menopause_status  \\\n",
       "0   1401001A              2           61.2                 1   \n",
       "1   1401002B              1           40.2                 2   \n",
       "2   1401003A              2           43.7                 2   \n",
       "3   1401005B              1           63.0                 1   \n",
       "4   1401006A              2           32.5                 2   \n",
       "\n",
       "  baseline_histo_grade baseline_t_stage baseline_n_stage surgery_histo_grade  \\\n",
       "0                   G3               T2               N0                  G1   \n",
       "1                   G3               T3               N1                  G2   \n",
       "2                   G2               T2               N0                 NaN   \n",
       "3                   G2               T2               N1                  G2   \n",
       "4                   G2               T2               N1                  G1   \n",
       "\n",
       "  surgery_histo_type                        surgery_specific_histo_type  \\\n",
       "0             ductal                                                NaN   \n",
       "1              other  Ductal, micropapillary carcinoma and mucinous ...   \n",
       "2             ductal                                                NaN   \n",
       "3             ductal                                                NaN   \n",
       "4             ductal                                                NaN   \n",
       "\n",
       "  surgery_t_stage surgery_n_stage  res_cancer_burden_class  pcr_breast_axilla  \\\n",
       "0              T2              N1                      2.0                2.0   \n",
       "1              T2              N1                      2.0                2.0   \n",
       "2              T1              N1                      3.0                2.0   \n",
       "3              T2              N1                      3.0                2.0   \n",
       "4              T1              N1                      3.0                2.0   \n",
       "\n",
       "   pcr_breast surgery_n_stage_type  \n",
       "0         2.0                   mi  \n",
       "1         2.0                    a  \n",
       "2         2.0                    b  \n",
       "3         2.0                    a  \n",
       "4         2.0                    a  "
      ]
     },
     "execution_count": 56,
     "metadata": {},
     "output_type": "execute_result"
    }
   ],
   "source": [
    "clinDF.head()"
   ]
  },
  {
   "cell_type": "markdown",
   "metadata": {},
   "source": [
    "**Object Type**"
   ]
  },
  {
   "cell_type": "code",
   "execution_count": 57,
   "metadata": {},
   "outputs": [
    {
     "name": "stdout",
     "output_type": "stream",
     "text": [
      "<class 'pandas.core.frame.DataFrame'>\n"
     ]
    }
   ],
   "source": [
    "print(type(clinDF))"
   ]
  },
  {
   "cell_type": "markdown",
   "metadata": {},
   "source": [
    "**Basic Info**"
   ]
  },
  {
   "cell_type": "code",
   "execution_count": 58,
   "metadata": {},
   "outputs": [
    {
     "name": "stdout",
     "output_type": "stream",
     "text": [
      "<class 'pandas.core.frame.DataFrame'>\n",
      "RangeIndex: 133 entries, 0 to 132\n",
      "Data columns (total 16 columns):\n",
      " #   Column                       Non-Null Count  Dtype  \n",
      "---  ------                       --------------  -----  \n",
      " 0   patient_id                   133 non-null    object \n",
      " 1   treatment_arm                133 non-null    int64  \n",
      " 2   age_diagnosis                133 non-null    float64\n",
      " 3   menopause_status             133 non-null    int64  \n",
      " 4   baseline_histo_grade         133 non-null    object \n",
      " 5   baseline_t_stage             133 non-null    object \n",
      " 6   baseline_n_stage             133 non-null    object \n",
      " 7   surgery_histo_grade          101 non-null    object \n",
      " 8   surgery_histo_type           118 non-null    object \n",
      " 9   surgery_specific_histo_type  6 non-null      object \n",
      " 10  surgery_t_stage              124 non-null    object \n",
      " 11  surgery_n_stage              124 non-null    object \n",
      " 12  res_cancer_burden_class      122 non-null    float64\n",
      " 13  pcr_breast_axilla            122 non-null    float64\n",
      " 14  pcr_breast                   122 non-null    float64\n",
      " 15  surgery_n_stage_type         124 non-null    object \n",
      "dtypes: float64(4), int64(2), object(10)\n",
      "memory usage: 16.8+ KB\n",
      "None\n"
     ]
    }
   ],
   "source": [
    "print(clinDF.info())"
   ]
  },
  {
   "cell_type": "markdown",
   "metadata": {},
   "source": [
    "**Dimensions**"
   ]
  },
  {
   "cell_type": "code",
   "execution_count": 59,
   "metadata": {},
   "outputs": [
    {
     "name": "stdout",
     "output_type": "stream",
     "text": [
      "Array dimensions\n",
      "2\n",
      "nrow, ncol\n"
     ]
    },
    {
     "data": {
      "text/plain": [
       "(133, 16)"
      ]
     },
     "execution_count": 59,
     "metadata": {},
     "output_type": "execute_result"
    }
   ],
   "source": [
    "print(\"Array dimensions\")\n",
    "print(np.ndim(clinDF))\n",
    "\n",
    "print(\"nrow, ncol\")\n",
    "clinDF.shape"
   ]
  },
  {
   "cell_type": "markdown",
   "metadata": {},
   "source": [
    "****"
   ]
  },
  {
   "cell_type": "markdown",
   "metadata": {},
   "source": [
    "## Inspecting data\n",
    "### Plasma Vial\n"
   ]
  },
  {
   "cell_type": "markdown",
   "metadata": {},
   "source": [
    "**Head**"
   ]
  },
  {
   "cell_type": "code",
   "execution_count": 60,
   "metadata": {},
   "outputs": [
    {
     "data": {
      "text/html": [
       "<div>\n",
       "<style scoped>\n",
       "    .dataframe tbody tr th:only-of-type {\n",
       "        vertical-align: middle;\n",
       "    }\n",
       "\n",
       "    .dataframe tbody tr th {\n",
       "        vertical-align: top;\n",
       "    }\n",
       "\n",
       "    .dataframe thead th {\n",
       "        text-align: right;\n",
       "    }\n",
       "</style>\n",
       "<table border=\"1\" class=\"dataframe\">\n",
       "  <thead>\n",
       "    <tr style=\"text-align: right;\">\n",
       "      <th></th>\n",
       "      <th>patient_id</th>\n",
       "      <th>plasma_vial_specimen_id</th>\n",
       "      <th>plasma_vial_volume</th>\n",
       "      <th>plasma_box_no</th>\n",
       "      <th>redcap_repeat_instance</th>\n",
       "      <th>vial_plasma_link</th>\n",
       "      <th>redcap_repeat_instrument</th>\n",
       "      <th>plasma_tube_loc</th>\n",
       "    </tr>\n",
       "  </thead>\n",
       "  <tbody>\n",
       "    <tr>\n",
       "      <th>0</th>\n",
       "      <td>1401001A</td>\n",
       "      <td>E15001-DP1</td>\n",
       "      <td>0.0</td>\n",
       "      <td>fake_box_ 1</td>\n",
       "      <td>1</td>\n",
       "      <td>1401001A_baseline</td>\n",
       "      <td>plasmavial</td>\n",
       "      <td>0.0</td>\n",
       "    </tr>\n",
       "    <tr>\n",
       "      <th>1</th>\n",
       "      <td>1401001A</td>\n",
       "      <td>E15001-DP2</td>\n",
       "      <td>0.0</td>\n",
       "      <td>fake_box_ 2</td>\n",
       "      <td>2</td>\n",
       "      <td>1401001A_baseline</td>\n",
       "      <td>plasmavial</td>\n",
       "      <td>0.0</td>\n",
       "    </tr>\n",
       "    <tr>\n",
       "      <th>2</th>\n",
       "      <td>1401001A</td>\n",
       "      <td>E15001-DP3</td>\n",
       "      <td>0.0</td>\n",
       "      <td>fake_box_ 3</td>\n",
       "      <td>3</td>\n",
       "      <td>1401001A_baseline</td>\n",
       "      <td>plasmavial</td>\n",
       "      <td>0.0</td>\n",
       "    </tr>\n",
       "    <tr>\n",
       "      <th>3</th>\n",
       "      <td>1401001A</td>\n",
       "      <td>E15003-DP1</td>\n",
       "      <td>0.0</td>\n",
       "      <td>fake_box_ 4</td>\n",
       "      <td>4</td>\n",
       "      <td>1401001A_pre-cycle-3</td>\n",
       "      <td>plasmavial</td>\n",
       "      <td>0.0</td>\n",
       "    </tr>\n",
       "    <tr>\n",
       "      <th>4</th>\n",
       "      <td>1401001A</td>\n",
       "      <td>E15003-DP2</td>\n",
       "      <td>1.8</td>\n",
       "      <td>2.001</td>\n",
       "      <td>5</td>\n",
       "      <td>1401001A_pre-cycle-3</td>\n",
       "      <td>plasmavial</td>\n",
       "      <td>0.0</td>\n",
       "    </tr>\n",
       "    <tr>\n",
       "      <th>5</th>\n",
       "      <td>1401001A</td>\n",
       "      <td>E15003-DP3</td>\n",
       "      <td>0.0</td>\n",
       "      <td>fake_box_ 6</td>\n",
       "      <td>6</td>\n",
       "      <td>1401001A_pre-cycle-3</td>\n",
       "      <td>plasmavial</td>\n",
       "      <td>0.0</td>\n",
       "    </tr>\n",
       "    <tr>\n",
       "      <th>6</th>\n",
       "      <td>1401001A</td>\n",
       "      <td>E15012-DP1</td>\n",
       "      <td>0.0</td>\n",
       "      <td>fake_box_ 7</td>\n",
       "      <td>7</td>\n",
       "      <td>1401001A_pre-surgery</td>\n",
       "      <td>plasmavial</td>\n",
       "      <td>0.0</td>\n",
       "    </tr>\n",
       "    <tr>\n",
       "      <th>7</th>\n",
       "      <td>1401001A</td>\n",
       "      <td>E15012-DP2</td>\n",
       "      <td>0.0</td>\n",
       "      <td>fake_box_ 8</td>\n",
       "      <td>8</td>\n",
       "      <td>1401001A_pre-surgery</td>\n",
       "      <td>plasmavial</td>\n",
       "      <td>0.0</td>\n",
       "    </tr>\n",
       "    <tr>\n",
       "      <th>8</th>\n",
       "      <td>1401001A</td>\n",
       "      <td>E15012-DP3</td>\n",
       "      <td>1.0</td>\n",
       "      <td>2.001</td>\n",
       "      <td>9</td>\n",
       "      <td>1401001A_pre-surgery</td>\n",
       "      <td>plasmavial</td>\n",
       "      <td>5.0</td>\n",
       "    </tr>\n",
       "    <tr>\n",
       "      <th>9</th>\n",
       "      <td>1401001A</td>\n",
       "      <td>E15012-DP4</td>\n",
       "      <td>1.0</td>\n",
       "      <td>2.001</td>\n",
       "      <td>10</td>\n",
       "      <td>1401001A_pre-surgery</td>\n",
       "      <td>plasmavial</td>\n",
       "      <td>6.0</td>\n",
       "    </tr>\n",
       "    <tr>\n",
       "      <th>10</th>\n",
       "      <td>1401002B</td>\n",
       "      <td>E15002-DP1</td>\n",
       "      <td>0.0</td>\n",
       "      <td>fake_box_ 11</td>\n",
       "      <td>1</td>\n",
       "      <td>1401002B_baseline</td>\n",
       "      <td>plasmavial</td>\n",
       "      <td>0.0</td>\n",
       "    </tr>\n",
       "    <tr>\n",
       "      <th>11</th>\n",
       "      <td>1401002B</td>\n",
       "      <td>E15002-DP2</td>\n",
       "      <td>0.0</td>\n",
       "      <td>fake_box_ 12</td>\n",
       "      <td>2</td>\n",
       "      <td>1401002B_baseline</td>\n",
       "      <td>plasmavial</td>\n",
       "      <td>0.0</td>\n",
       "    </tr>\n",
       "    <tr>\n",
       "      <th>12</th>\n",
       "      <td>1401002B</td>\n",
       "      <td>E15002-DP3</td>\n",
       "      <td>0.0</td>\n",
       "      <td>fake_box_ 13</td>\n",
       "      <td>3</td>\n",
       "      <td>1401002B_baseline</td>\n",
       "      <td>plasmavial</td>\n",
       "      <td>0.0</td>\n",
       "    </tr>\n",
       "    <tr>\n",
       "      <th>13</th>\n",
       "      <td>1401002B</td>\n",
       "      <td>E15005-DP1</td>\n",
       "      <td>1.0</td>\n",
       "      <td>2.001</td>\n",
       "      <td>4</td>\n",
       "      <td>1401002B_pre-cycle-3</td>\n",
       "      <td>plasmavial</td>\n",
       "      <td>1.0</td>\n",
       "    </tr>\n",
       "    <tr>\n",
       "      <th>14</th>\n",
       "      <td>1401002B</td>\n",
       "      <td>E15027-DP1</td>\n",
       "      <td>0.0</td>\n",
       "      <td>fake_box_ 15</td>\n",
       "      <td>5</td>\n",
       "      <td>1401002B_pre-surgery</td>\n",
       "      <td>plasmavial</td>\n",
       "      <td>0.0</td>\n",
       "    </tr>\n",
       "    <tr>\n",
       "      <th>15</th>\n",
       "      <td>1401002B</td>\n",
       "      <td>E15027-DP2</td>\n",
       "      <td>0.0</td>\n",
       "      <td>fake_box_ 16</td>\n",
       "      <td>6</td>\n",
       "      <td>1401002B_pre-surgery</td>\n",
       "      <td>plasmavial</td>\n",
       "      <td>0.0</td>\n",
       "    </tr>\n",
       "    <tr>\n",
       "      <th>16</th>\n",
       "      <td>1401002B</td>\n",
       "      <td>E15027-DP3</td>\n",
       "      <td>1.0</td>\n",
       "      <td>2.001</td>\n",
       "      <td>7</td>\n",
       "      <td>1401002B_pre-surgery</td>\n",
       "      <td>plasmavial</td>\n",
       "      <td>19.0</td>\n",
       "    </tr>\n",
       "    <tr>\n",
       "      <th>17</th>\n",
       "      <td>1401003A</td>\n",
       "      <td>E15004-DP1</td>\n",
       "      <td>0.0</td>\n",
       "      <td>fake_box_ 18</td>\n",
       "      <td>1</td>\n",
       "      <td>1401003A_baseline</td>\n",
       "      <td>plasmavial</td>\n",
       "      <td>0.0</td>\n",
       "    </tr>\n",
       "    <tr>\n",
       "      <th>18</th>\n",
       "      <td>1401003A</td>\n",
       "      <td>E15008-DP1</td>\n",
       "      <td>0.0</td>\n",
       "      <td>fake_box_ 19</td>\n",
       "      <td>2</td>\n",
       "      <td>1401003A_pre-cycle-3</td>\n",
       "      <td>plasmavial</td>\n",
       "      <td>0.0</td>\n",
       "    </tr>\n",
       "    <tr>\n",
       "      <th>19</th>\n",
       "      <td>1401003A</td>\n",
       "      <td>E15008-DP2</td>\n",
       "      <td>0.0</td>\n",
       "      <td>fake_box_ 20</td>\n",
       "      <td>3</td>\n",
       "      <td>1401003A_pre-cycle-3</td>\n",
       "      <td>plasmavial</td>\n",
       "      <td>0.0</td>\n",
       "    </tr>\n",
       "  </tbody>\n",
       "</table>\n",
       "</div>"
      ],
      "text/plain": [
       "   patient_id plasma_vial_specimen_id  plasma_vial_volume plasma_box_no  \\\n",
       "0    1401001A              E15001-DP1                 0.0   fake_box_ 1   \n",
       "1    1401001A              E15001-DP2                 0.0   fake_box_ 2   \n",
       "2    1401001A              E15001-DP3                 0.0   fake_box_ 3   \n",
       "3    1401001A              E15003-DP1                 0.0   fake_box_ 4   \n",
       "4    1401001A              E15003-DP2                 1.8         2.001   \n",
       "5    1401001A              E15003-DP3                 0.0   fake_box_ 6   \n",
       "6    1401001A              E15012-DP1                 0.0   fake_box_ 7   \n",
       "7    1401001A              E15012-DP2                 0.0   fake_box_ 8   \n",
       "8    1401001A              E15012-DP3                 1.0         2.001   \n",
       "9    1401001A              E15012-DP4                 1.0         2.001   \n",
       "10   1401002B              E15002-DP1                 0.0  fake_box_ 11   \n",
       "11   1401002B              E15002-DP2                 0.0  fake_box_ 12   \n",
       "12   1401002B              E15002-DP3                 0.0  fake_box_ 13   \n",
       "13   1401002B              E15005-DP1                 1.0         2.001   \n",
       "14   1401002B              E15027-DP1                 0.0  fake_box_ 15   \n",
       "15   1401002B              E15027-DP2                 0.0  fake_box_ 16   \n",
       "16   1401002B              E15027-DP3                 1.0         2.001   \n",
       "17   1401003A              E15004-DP1                 0.0  fake_box_ 18   \n",
       "18   1401003A              E15008-DP1                 0.0  fake_box_ 19   \n",
       "19   1401003A              E15008-DP2                 0.0  fake_box_ 20   \n",
       "\n",
       "    redcap_repeat_instance      vial_plasma_link redcap_repeat_instrument  \\\n",
       "0                        1     1401001A_baseline               plasmavial   \n",
       "1                        2     1401001A_baseline               plasmavial   \n",
       "2                        3     1401001A_baseline               plasmavial   \n",
       "3                        4  1401001A_pre-cycle-3               plasmavial   \n",
       "4                        5  1401001A_pre-cycle-3               plasmavial   \n",
       "5                        6  1401001A_pre-cycle-3               plasmavial   \n",
       "6                        7  1401001A_pre-surgery               plasmavial   \n",
       "7                        8  1401001A_pre-surgery               plasmavial   \n",
       "8                        9  1401001A_pre-surgery               plasmavial   \n",
       "9                       10  1401001A_pre-surgery               plasmavial   \n",
       "10                       1     1401002B_baseline               plasmavial   \n",
       "11                       2     1401002B_baseline               plasmavial   \n",
       "12                       3     1401002B_baseline               plasmavial   \n",
       "13                       4  1401002B_pre-cycle-3               plasmavial   \n",
       "14                       5  1401002B_pre-surgery               plasmavial   \n",
       "15                       6  1401002B_pre-surgery               plasmavial   \n",
       "16                       7  1401002B_pre-surgery               plasmavial   \n",
       "17                       1     1401003A_baseline               plasmavial   \n",
       "18                       2  1401003A_pre-cycle-3               plasmavial   \n",
       "19                       3  1401003A_pre-cycle-3               plasmavial   \n",
       "\n",
       "    plasma_tube_loc  \n",
       "0               0.0  \n",
       "1               0.0  \n",
       "2               0.0  \n",
       "3               0.0  \n",
       "4               0.0  \n",
       "5               0.0  \n",
       "6               0.0  \n",
       "7               0.0  \n",
       "8               5.0  \n",
       "9               6.0  \n",
       "10              0.0  \n",
       "11              0.0  \n",
       "12              0.0  \n",
       "13              1.0  \n",
       "14              0.0  \n",
       "15              0.0  \n",
       "16             19.0  \n",
       "17              0.0  \n",
       "18              0.0  \n",
       "19              0.0  "
      ]
     },
     "execution_count": 60,
     "metadata": {},
     "output_type": "execute_result"
    }
   ],
   "source": [
    "plasmaVialDF.iloc[:20, :]"
   ]
  },
  {
   "cell_type": "markdown",
   "metadata": {},
   "source": [
    "**Object Type**"
   ]
  },
  {
   "cell_type": "code",
   "execution_count": 61,
   "metadata": {},
   "outputs": [
    {
     "name": "stdout",
     "output_type": "stream",
     "text": [
      "<class 'pandas.core.frame.DataFrame'>\n"
     ]
    }
   ],
   "source": [
    "print(type(plasmaVialDF))"
   ]
  },
  {
   "cell_type": "markdown",
   "metadata": {},
   "source": [
    "**Basic Info**"
   ]
  },
  {
   "cell_type": "code",
   "execution_count": 62,
   "metadata": {},
   "outputs": [
    {
     "name": "stdout",
     "output_type": "stream",
     "text": [
      "<class 'pandas.core.frame.DataFrame'>\n",
      "RangeIndex: 1113 entries, 0 to 1112\n",
      "Data columns (total 8 columns):\n",
      " #   Column                    Non-Null Count  Dtype  \n",
      "---  ------                    --------------  -----  \n",
      " 0   patient_id                1113 non-null   object \n",
      " 1   plasma_vial_specimen_id   1113 non-null   object \n",
      " 2   plasma_vial_volume        1113 non-null   float64\n",
      " 3   plasma_box_no             1104 non-null   object \n",
      " 4   redcap_repeat_instance    1113 non-null   int64  \n",
      " 5   vial_plasma_link          1113 non-null   object \n",
      " 6   redcap_repeat_instrument  1113 non-null   object \n",
      " 7   plasma_tube_loc           1103 non-null   float64\n",
      "dtypes: float64(2), int64(1), object(5)\n",
      "memory usage: 69.7+ KB\n",
      "None\n"
     ]
    }
   ],
   "source": [
    "print(plasmaVialDF.info())"
   ]
  },
  {
   "cell_type": "markdown",
   "metadata": {},
   "source": [
    "**Dimensions**"
   ]
  },
  {
   "cell_type": "code",
   "execution_count": 63,
   "metadata": {},
   "outputs": [
    {
     "name": "stdout",
     "output_type": "stream",
     "text": [
      "Array dimensions\n",
      "2\n",
      "nrow, ncol\n"
     ]
    },
    {
     "data": {
      "text/plain": [
       "(1113, 8)"
      ]
     },
     "execution_count": 63,
     "metadata": {},
     "output_type": "execute_result"
    }
   ],
   "source": [
    "print(\"Array dimensions\")\n",
    "print(np.ndim(plasmaVialDF))\n",
    "\n",
    "print(\"nrow, ncol\")\n",
    "plasmaVialDF.shape"
   ]
  },
  {
   "cell_type": "markdown",
   "metadata": {},
   "source": [
    "****\n"
   ]
  },
  {
   "cell_type": "markdown",
   "metadata": {},
   "source": [
    "# Creating SQL database"
   ]
  },
  {
   "cell_type": "code",
   "execution_count": 64,
   "metadata": {},
   "outputs": [],
   "source": [
    "import sqlalchemy as sqla\n",
    "# Creating sql lite db\n",
    "engine = sqla.create_engine('sqlite:///data/sql/ELIMINATE.db')"
   ]
  },
  {
   "cell_type": "markdown",
   "metadata": {},
   "source": [
    "#### Loading DFs into database"
   ]
  },
  {
   "cell_type": "code",
   "execution_count": 67,
   "metadata": {},
   "outputs": [
    {
     "data": {
      "text/plain": [
       "133"
      ]
     },
     "execution_count": 67,
     "metadata": {},
     "output_type": "execute_result"
    }
   ],
   "source": [
    "pd.DataFrame.to_sql(clinDF, name=\"clinical\", con=engine, if_exists='replace', index=False)\n",
    "pd.DataFrame.to_sql(plasmaCollectDF, name=\"plasmaCollection\", con=engine, if_exists='replace', index=False)\n",
    "pd.DataFrame.to_sql(plasmaVialDF, name=\"plasmaVial\", con=engine, if_exists='replace', index=False)"
   ]
  }
 ],
 "metadata": {
  "kernelspec": {
   "display_name": "venv",
   "language": "python",
   "name": "python3"
  },
  "language_info": {
   "codemirror_mode": {
    "name": "ipython",
    "version": 3
   },
   "file_extension": ".py",
   "mimetype": "text/x-python",
   "name": "python",
   "nbconvert_exporter": "python",
   "pygments_lexer": "ipython3",
   "version": "3.10.2"
  },
  "orig_nbformat": 4
 },
 "nbformat": 4,
 "nbformat_minor": 2
}
